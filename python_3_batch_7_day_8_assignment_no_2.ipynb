{
  "nbformat": 4,
  "nbformat_minor": 0,
  "metadata": {
    "colab": {
      "name": "python 3 batch 7 day 8 assignment no 2",
      "provenance": [],
      "authorship_tag": "ABX9TyOcfvrYNqcYTcW8Tn6tLlo7",
      "include_colab_link": true
    },
    "kernelspec": {
      "name": "python3",
      "display_name": "Python 3"
    }
  },
  "cells": [
    {
      "cell_type": "markdown",
      "metadata": {
        "id": "view-in-github",
        "colab_type": "text"
      },
      "source": [
        "<a href=\"https://colab.research.google.com/github/pitchikakumaraveeravenkataganesh/python-3-batch-7-day-8-assignment-no-2-/blob/master/python_3_batch_7_day_8_assignment_no_2.ipynb\" target=\"_parent\"><img src=\"https://colab.research.google.com/assets/colab-badge.svg\" alt=\"Open In Colab\"/></a>"
      ]
    },
    {
      "cell_type": "markdown",
      "metadata": {
        "id": "9-cw8wNt-59J",
        "colab_type": "text"
      },
      "source": [
        "for this challange you need to devlope a python programm to open file read only mode and try writing and handle sequent errrors and using exception handling\n"
      ]
    },
    {
      "cell_type": "code",
      "metadata": {
        "id": "Qvtlj5Gg_NiJ",
        "colab_type": "code",
        "colab": {
          "base_uri": "https://localhost:8080/",
          "height": 34
        },
        "outputId": "a8bf3e0c-e424-41fd-c8e6-3164794e2d1b"
      },
      "source": [
        "try:\n",
        "  fob=open(\"test\",\"r\")\n",
        "  fob.write(\"It's my test file to verify exception handling in python!!\")\n",
        "except IOError:\n",
        "    print (\"Error:: can\\'t find the file or read data\")\n",
        "else:\n",
        "    print(\"write operation is performed successfully on the file\")"
      ],
      "execution_count": 68,
      "outputs": [
        {
          "output_type": "stream",
          "text": [
            "Error:: can't find the file or read data\n"
          ],
          "name": "stdout"
        }
      ]
    }
  ]
}